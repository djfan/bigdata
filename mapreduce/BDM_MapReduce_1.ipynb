{
 "cells": [
  {
   "cell_type": "markdown",
   "metadata": {},
   "source": [
    "# Lab 2\n",
    "\n",
    "In this lab, we will practice Python's higher order functions, in particular, map(), filter() and reduce(). \n",
    "\n",
    "You are required to turn in this notebook with all the parts filled in between <>. Your notebook must be named BDM\\_Lab2\\_<b>NetId</b>.ipynb\n",
    "\n",
    "\n",
    "## Task 1\n",
    "\n",
    "You are provided a list of service status updates scraped from an MTA information website. Each update may indicate <i>Good Service</i>, <i>Planned Work</i>, or <i>Delays</i> for one or more subway lines. Our first objective is to list all the lines that are running with <i>Delays</i>. To guide you through the process, our problem are also split into smaller tasks."
   ]
  },
  {
   "cell_type": "code",
   "execution_count": 1,
   "metadata": {
    "collapsed": true
   },
   "outputs": [],
   "source": [
    "# This is your input data, a list of subway line status.\n",
    "# It is a list of string in a specific format\n",
    "\n",
    "status = [\n",
    "    '1,2,3 : Good Service',\n",
    "    '4,5,6 : Delays',\n",
    "    '7 : Good Service',\n",
    "    'A,C : Good Service',\n",
    "    'E : Planned Work',\n",
    "    'G : Delays',\n",
    "    'B,D,F,M : Good Service',\n",
    "    'J,Z : Delays',\n",
    "    'L : Good Service',\n",
    "    'N,Q,R : Planned Work',\n",
    "    'S : Good Service',\n",
    "]"
   ]
  },
  {
   "cell_type": "code",
   "execution_count": 2,
   "metadata": {
    "collapsed": true
   },
   "outputs": [],
   "source": [
    "import mapreduce as mr"
   ]
  },
  {
   "cell_type": "markdown",
   "metadata": {},
   "source": [
    "### Sub-Task 1\n",
    "\n",
    "Please complete the lambda expression to filter only the status updates for the lines that run with <i>Delays</i>."
   ]
  },
  {
   "cell_type": "code",
   "execution_count": 3,
   "metadata": {
    "collapsed": false
   },
   "outputs": [
    {
     "name": "stdout",
     "output_type": "stream",
     "text": [
      "['4,5,6 : Delays', 'G : Delays', 'J,Z : Delays']\n"
     ]
    }
   ],
   "source": [
    "def mapper1(row):\n",
    "    if 'Delays' in row:\n",
    "        yield row\n",
    "    \n",
    "delayUpdates = list(mr.run(status, mapper1))\n",
    "#delayUpdates = list(mr.run(status, lambda x: 'Delays' in x))\n",
    "print delayUpdates\n",
    "\n",
    "# After this, your delayUpdates should be\n",
    "# ['4,5,6 : Delays', 'G : Delays', 'J,Z : Delays']"
   ]
  },
  {
   "cell_type": "markdown",
   "metadata": {},
   "source": [
    "### Sub-Task 2\n",
    "\n",
    "Please complete the lambda expression below to convert each status line into a list of subway lines, i.e. <b><i>'4,5,6 : Delays'</i></b> would become <b><i>['4','5','6']</i></b>"
   ]
  },
  {
   "cell_type": "code",
   "execution_count": 4,
   "metadata": {
    "collapsed": false
   },
   "outputs": [
    {
     "name": "stdout",
     "output_type": "stream",
     "text": [
      "[['4', '5', '6'], ['G'], ['J', 'Z']]\n"
     ]
    }
   ],
   "source": [
    "def mapper2(row):\n",
    "    #return [row.split(' : ')[0].split(',')]\n",
    "    yield row.split(' : ')[0].split(',')\n",
    "    \n",
    "#delayLineList = map(lambda x: x.split(' : ')[0].split(','), delayUpdates)\n",
    "delayLineList = list(mr.run(delayUpdates, mapper2))\n",
    "print delayLineList\n",
    "\n",
    "# After this, your delayLineList should be\n",
    "# [['4', '5', '6'], ['G'], ['J', 'Z']]"
   ]
  },
  {
   "cell_type": "markdown",
   "metadata": {},
   "source": [
    "### Sub-Task 3\n",
    "\n",
    "Please complete the reduce command below to convert each the list of subway lists given in <i>delayLineList</i> into a single list of subway lines running with delay."
   ]
  },
  {
   "cell_type": "code",
   "execution_count": 5,
   "metadata": {
    "collapsed": false
   },
   "outputs": [
    {
     "name": "stdout",
     "output_type": "stream",
     "text": [
      "['4', '5', '6', 'G', 'J', 'Z']\n"
     ]
    }
   ],
   "source": [
    "# # delayLineLisx = map(lambda x: <YOUR EXPRESSION HERE>, delayUpdates)\n",
    "# def mapper3(row):\n",
    "#     return row.split(' : ')[0].split(',')\n",
    "    \n",
    "# delayLines = list(mr.run(delayUpdates, mapper3))\n",
    "# print delayLines\n",
    "\n",
    "def mapper3a(row):\n",
    "    if 'Delays' in row:\n",
    "        for l in row.split(' : ')[0].split(','):\n",
    "            yield l\n",
    "\n",
    "delayLines = list(mr.run(status, mapper3a))\n",
    "print delayLines\n",
    "\n",
    "\n",
    "# After this, your delayLines should be\n",
    "# ['4', '5', '6', 'G', 'J', 'Z']"
   ]
  },
  {
   "cell_type": "markdown",
   "metadata": {},
   "source": [
    "### Sub-Task 4\n",
    "\n",
    "Please complete the reduce command below to count the number of lines in <b>delayLines</b>."
   ]
  },
  {
   "cell_type": "code",
   "execution_count": 6,
   "metadata": {
    "collapsed": false
   },
   "outputs": [
    {
     "name": "stdout",
     "output_type": "stream",
     "text": [
      "[6]\n"
     ]
    }
   ],
   "source": [
    "# delayLineCount = reduce(lambda x,y: <YOUR EXPRESSION HERE>, delayLines, <THE INITIAL VALUE OF YOUR REDUCE>)\n",
    "# delayLineCount = reduce(lambda x,y: x+1, delayLines, 0)\n",
    "\n",
    "def mapper(row):\n",
    "    yield (0, row)\n",
    "\n",
    "def reducer(k2v2):\n",
    "    return len(k2v2[1])\n",
    "\n",
    "delayLineCount = list(mr.run(delayLines, mapper, reducer))\n",
    "print delayLineCount\n",
    "\n",
    "# After this, your delayLineCount should be\n",
    "# 6"
   ]
  },
  {
   "cell_type": "markdown",
   "metadata": {},
   "source": [
    "## Task 2\n",
    "\n",
    "In this excercise, we would like to expand the combined service updatse into separate updates for each subway line. For example, instead of having a single line <b>'1,2,3 : Good Service'</b> to indicate that line 1, 2, and 3 are in good service, we would like to convert that into 3 separate updates: <b>'1 : Good Service'</b>, <b>'2 : Good Service'</b>, and <b>'3 : Good Service'</b>.\n",
    "\n",
    "You are tasked to write a chain of map(), filter(), and/or reduce() to convert the <b>status</b> variable into a list like below:"
   ]
  },
  {
   "cell_type": "raw",
   "metadata": {},
   "source": [
    "['1 : Good Service',\n",
    " '2 : Good Service',\n",
    " '3 : Good Service',\n",
    " '4 : Delays',\n",
    " '5 : Delays',\n",
    " '6 : Delays',\n",
    " '7 : Good Service',\n",
    " 'A : Good Service',\n",
    " 'C : Good Service',\n",
    " 'E : Planned Work',\n",
    " 'G : Delays',\n",
    " 'B : Good Service',\n",
    " 'D : Good Service',\n",
    " 'F : Good Service',\n",
    " 'M : Good Service',\n",
    " 'J : Delays',\n",
    " 'Z : Delays',\n",
    " 'L : Good Service',\n",
    " 'N : Planned Work',\n",
    " 'Q : Planned Work',\n",
    " 'R : Planned Work',\n",
    " 'S : Good Service']"
   ]
  },
  {
   "cell_type": "markdown",
   "metadata": {},
   "source": [
    "Please note that you may only use higher order functions without access to global variables. Your expression should contain only map(), filter() and/or reduce() and your custom function definitions."
   ]
  },
  {
   "cell_type": "code",
   "execution_count": 7,
   "metadata": {
    "collapsed": false
   },
   "outputs": [
    {
     "data": {
      "text/plain": [
       "['1 : Good Service',\n",
       " '2 : Good Service',\n",
       " '3 : Good Service',\n",
       " '4 : Delays',\n",
       " '5 : Delays',\n",
       " '6 : Delays',\n",
       " '7 : Good Service',\n",
       " 'A : Good Service',\n",
       " 'B : Good Service',\n",
       " 'C : Good Service',\n",
       " 'D : Good Service',\n",
       " 'E : Planned Work',\n",
       " 'F : Good Service',\n",
       " 'G : Delays',\n",
       " 'J : Delays',\n",
       " 'L : Good Service',\n",
       " 'M : Good Service',\n",
       " 'N : Planned Work',\n",
       " 'Q : Planned Work',\n",
       " 'R : Planned Work',\n",
       " 'S : Good Service',\n",
       " 'Z : Delays']"
      ]
     },
     "execution_count": 7,
     "metadata": {},
     "output_type": "execute_result"
    }
   ],
   "source": [
    "def mapper(x):\n",
    "    a = x.split(' : ')\n",
    "    return zip(a[0].split(','), [a[1]]*len(a[0]))\n",
    "\n",
    "def reducer((line, lineStatuses)):\n",
    "    return '%s : %s' % (line, lineStatuses[0])\n",
    "\n",
    "updates = list(mr.run(status, mapper, reducer))\n",
    "updates\n",
    "\n",
    "# The expected value of updates is the list shown above"
   ]
  },
  {
   "cell_type": "code",
   "execution_count": null,
   "metadata": {
    "collapsed": true
   },
   "outputs": [],
   "source": []
  }
 ],
 "metadata": {
  "anaconda-cloud": {},
  "kernelspec": {
   "display_name": "Python [default]",
   "language": "python",
   "name": "python2"
  },
  "language_info": {
   "codemirror_mode": {
    "name": "ipython",
    "version": 2
   },
   "file_extension": ".py",
   "mimetype": "text/x-python",
   "name": "python",
   "nbconvert_exporter": "python",
   "pygments_lexer": "ipython2",
   "version": "2.7.12"
  }
 },
 "nbformat": 4,
 "nbformat_minor": 0
}
