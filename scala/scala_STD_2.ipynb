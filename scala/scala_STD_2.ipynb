{
 "cells": [
  {
   "cell_type": "markdown",
   "metadata": {},
   "source": [
    "## option"
   ]
  },
  {
   "cell_type": "markdown",
   "metadata": {},
   "source": [
    "Option[A] is a container for an optional value of type A. If the value of type A is present, the Option[A] is an instance of Some[A], containing the present value of type A. If the value is absent, the Option[A] is the object None."
   ]
  },
  {
   "cell_type": "code",
   "execution_count": 39,
   "metadata": {
    "collapsed": false
   },
   "outputs": [
    {
     "data": {
      "text/plain": [
       "\u001b[36mv1\u001b[39m: \u001b[32mOption\u001b[39m[\u001b[32mChar\u001b[39m] = \u001b[33mSome\u001b[39m(\u001b[32m'c'\u001b[39m)\n",
       "\u001b[36mv2\u001b[39m: \u001b[32mOption\u001b[39m[\u001b[32mChar\u001b[39m] = None\n",
       "\u001b[36mv3\u001b[39m: \u001b[32mOption\u001b[39m[\u001b[32mString\u001b[39m] = \u001b[33mSome\u001b[39m(\u001b[32m\"option in scala\"\u001b[39m)\n",
       "\u001b[36mres38_3\u001b[39m: \u001b[32mClass\u001b[39m[\u001b[32m?0\u001b[39m] = class scala.Some"
      ]
     },
     "execution_count": 39,
     "metadata": {},
     "output_type": "execute_result"
    }
   ],
   "source": [
    "val v1: Option[Char] = Some('c')\n",
    "val v2: Option[Char] = None\n",
    "val v3: Option[String] = Some(\"option in scala\")\n",
    "v1.getClass"
   ]
  },
  {
   "cell_type": "code",
   "execution_count": 8,
   "metadata": {
    "collapsed": false
   },
   "outputs": [
    {
     "data": {
      "text/plain": [
       "defined \u001b[32mfunction\u001b[39m \u001b[36mMaybeOption\u001b[39m"
      ]
     },
     "execution_count": 8,
     "metadata": {},
     "output_type": "execute_result"
    }
   ],
   "source": [
    "def MaybeOption(flag: Boolean): Option[Boolean] = {\n",
    "    if (flag) Some(true) else None\n",
    "} "
   ]
  },
  {
   "cell_type": "code",
   "execution_count": 17,
   "metadata": {
    "collapsed": false
   },
   "outputs": [
    {
     "data": {
      "text/plain": [
       "\u001b[36mflg\u001b[39m: \u001b[32mOption\u001b[39m[\u001b[32mBoolean\u001b[39m] = \u001b[33mSome\u001b[39m(\u001b[32mtrue\u001b[39m)"
      ]
     },
     "execution_count": 17,
     "metadata": {},
     "output_type": "execute_result"
    }
   ],
   "source": [
    "//var flg = MaybeOption(true)\n",
    "val flg = MaybeOption(true)\n",
    "val flg2 = MaybeOption(false)\n",
    "flg.getOrElse(\"No value\")\n",
    "flg2.getOrElse(\"No values!!!\")\n",
    "flg.isEmpty"
   ]
  },
  {
   "cell_type": "markdown",
   "metadata": {},
   "source": [
    "### pattern matching"
   ]
  },
  {
   "cell_type": "code",
   "execution_count": 31,
   "metadata": {
    "collapsed": false
   },
   "outputs": [
    {
     "data": {
      "text/plain": [
       "\u001b[36mvalu1\u001b[39m: \u001b[32mOption\u001b[39m[\u001b[32mString\u001b[39m] = \u001b[33mSome\u001b[39m(\u001b[32m\"pattern Matching\"\u001b[39m)\n",
       "\u001b[36mnovalu1\u001b[39m: \u001b[32mOption\u001b[39m[\u001b[32mString\u001b[39m] = None"
      ]
     },
     "execution_count": 31,
     "metadata": {},
     "output_type": "execute_result"
    }
   ],
   "source": [
    "val valu1: Option[String] = Some(\"pattern Matching\")\n",
    "val novalu1: Option[String] = None"
   ]
  },
  {
   "cell_type": "code",
   "execution_count": 33,
   "metadata": {
    "collapsed": false
   },
   "outputs": [
    {
     "data": {
      "text/plain": [
       "\u001b[36mvalu\u001b[39m: \u001b[32mString\u001b[39m = \u001b[32m\"pattern Matching\"\u001b[39m\n",
       "\u001b[36mnovalu\u001b[39m: \u001b[32mString\u001b[39m = \u001b[32m\"None !!!\"\u001b[39m"
      ]
     },
     "execution_count": 33,
     "metadata": {},
     "output_type": "execute_result"
    }
   ],
   "source": [
    "val valu = valu1 match {\n",
    "    case Some(v) => v\n",
    "    case None => \"None !!!\"\n",
    "} \n",
    "\n",
    "val novalu = novalu1 match {\n",
    "    case Some(v) => v\n",
    "    case None => \"None !!!\"\n",
    "} "
   ]
  },
  {
   "cell_type": "markdown",
   "metadata": {},
   "source": [
    "### Map"
   ]
  },
  {
   "cell_type": "code",
   "execution_count": 35,
   "metadata": {
    "collapsed": false
   },
   "outputs": [
    {
     "data": {
      "text/plain": [
       "\u001b[36mvaluMAP\u001b[39m: \u001b[32mOption\u001b[39m[\u001b[32mInt\u001b[39m] = \u001b[33mSome\u001b[39m(\u001b[32m1\u001b[39m)\n",
       "\u001b[36mnovaluMAP\u001b[39m: \u001b[32mOption\u001b[39m[\u001b[32mDouble\u001b[39m] = None\n",
       "\u001b[36mrvaluMAP\u001b[39m: \u001b[32mOption\u001b[39m[\u001b[32mDouble\u001b[39m] = \u001b[33mSome\u001b[39m(\u001b[32m1.5\u001b[39m)\n",
       "\u001b[36mrnovaluMAP\u001b[39m: \u001b[32mOption\u001b[39m[\u001b[32mDouble\u001b[39m] = None"
      ]
     },
     "execution_count": 35,
     "metadata": {},
     "output_type": "execute_result"
    }
   ],
   "source": [
    "val valuMAP : Option[Int] = Some(1)\n",
    "val novaluMAP : Option[Double] =  None\n",
    "val rvaluMAP = valuMAP.map(_*1.5)\n",
    "val rnovaluMAP = novaluMAP.map(_*1.65)"
   ]
  },
  {
   "cell_type": "markdown",
   "metadata": {},
   "source": [
    "### Fold \n",
    "This operation will extract the value from the option, or provide a default if the value is None"
   ]
  },
  {
   "cell_type": "code",
   "execution_count": 38,
   "metadata": {
    "collapsed": false
   },
   "outputs": [
    {
     "data": {
      "text/plain": [
       "\u001b[36mvaluFold\u001b[39m: \u001b[32mOption\u001b[39m[\u001b[32mDouble\u001b[39m] = \u001b[33mSome\u001b[39m(\u001b[32m5.1\u001b[39m)\n",
       "\u001b[36mnovaluFold\u001b[39m: \u001b[32mOption\u001b[39m[\u001b[32mDouble\u001b[39m] = None\n",
       "\u001b[36mrvaluFold\u001b[39m: \u001b[32mDouble\u001b[39m = \u001b[32m7.6499999999999995\u001b[39m\n",
       "\u001b[36mrnovaluFold\u001b[39m: \u001b[32mDouble\u001b[39m = \u001b[32m2.0\u001b[39m"
      ]
     },
     "execution_count": 38,
     "metadata": {},
     "output_type": "execute_result"
    }
   ],
   "source": [
    "val valuFold : Option[Double] = Some(5.1)\n",
    "val novaluFold : Option[Double] =  None\n",
    "val rvaluFold = valuFold.fold(2.0)(_*1.5)\n",
    "val rnovaluFold = novaluFold.fold(2.0)(_*1.65) // 2.0,  not 2"
   ]
  },
  {
   "cell_type": "markdown",
   "metadata": {},
   "source": [
    "<br/><br/>\n",
    "## Object"
   ]
  },
  {
   "cell_type": "code",
   "execution_count": 40,
   "metadata": {
    "collapsed": false
   },
   "outputs": [
    {
     "data": {
      "text/plain": [
       "defined \u001b[32mobject\u001b[39m \u001b[36mGreeting\u001b[39m"
      ]
     },
     "execution_count": 40,
     "metadata": {},
     "output_type": "execute_result"
    }
   ],
   "source": [
    "// lower_case 'o'bject\n",
    "object Greeting {\n",
    "    def english = \"Hey\"\n",
    "    def chinese = \"Ni Hao\"\n",
    "    def spanish = \"Hola\"\n",
    "}"
   ]
  },
  {
   "cell_type": "code",
   "execution_count": 41,
   "metadata": {
    "collapsed": false
   },
   "outputs": [
    {
     "data": {
      "text/plain": [
       "\u001b[36mres40\u001b[39m: \u001b[32mString\u001b[39m = \u001b[32m\"Ni Hao\"\u001b[39m"
      ]
     },
     "execution_count": 41,
     "metadata": {},
     "output_type": "execute_result"
    }
   ],
   "source": [
    "Greeting.chinese"
   ]
  },
  {
   "cell_type": "code",
   "execution_count": 44,
   "metadata": {
    "collapsed": false
   },
   "outputs": [
    {
     "data": {
      "text/plain": [
       "\u001b[36mx\u001b[39m: \u001b[32mGreeting\u001b[39m.type = $sess.cmd39Wrapper$Helper$Greeting$@761e986e\n",
       "\u001b[36my\u001b[39m: \u001b[32mGreeting\u001b[39m.type = $sess.cmd39Wrapper$Helper$Greeting$@761e986e\n",
       "\u001b[36mres43_2\u001b[39m: \u001b[32mBoolean\u001b[39m = \u001b[32mtrue\u001b[39m"
      ]
     },
     "execution_count": 44,
     "metadata": {},
     "output_type": "execute_result"
    }
   ],
   "source": [
    "val x = Greeting\n",
    "val y = x\n",
    "x eq y"
   ]
  },
  {
   "cell_type": "code",
   "execution_count": 45,
   "metadata": {
    "collapsed": false
   },
   "outputs": [
    {
     "data": {
      "text/plain": [
       "\u001b[36mz\u001b[39m: \u001b[32mGreeting\u001b[39m.type = $sess.cmd39Wrapper$Helper$Greeting$@761e986e\n",
       "\u001b[36mres44_1\u001b[39m: \u001b[32mBoolean\u001b[39m = \u001b[32mtrue\u001b[39m"
      ]
     },
     "execution_count": 45,
     "metadata": {},
     "output_type": "execute_result"
    }
   ],
   "source": [
    "val z = Greeting\n",
    "x eq z"
   ]
  },
  {
   "cell_type": "markdown",
   "metadata": {},
   "source": [
    "An object that has the same name as a class is called a companion object of the class, and it is often used to contain factory methods for the class that it complements:"
   ]
  },
  {
   "cell_type": "markdown",
   "metadata": {},
   "source": [
    "A companion object can also see private values and variables of the corresponding classes' instantiated objects"
   ]
  },
  {
   "cell_type": "code",
   "execution_count": 59,
   "metadata": {
    "collapsed": false
   },
   "outputs": [
    {
     "data": {
      "text/plain": [
       "defined \u001b[32mclass\u001b[39m \u001b[36mPerson\u001b[39m\n",
       "defined \u001b[32mobject\u001b[39m \u001b[36mPerson\u001b[39m"
      ]
     },
     "execution_count": 59,
     "metadata": {},
     "output_type": "execute_result"
    }
   ],
   "source": [
    "class Person(val name: String, private val superheroName: Option[Double]) //The superhero name is private!\n",
    "\n",
    "object Person {\n",
    "  def showMeInnerSecret(x: Person) = x.superheroName\n",
    "}"
   ]
  },
  {
   "cell_type": "code",
   "execution_count": 60,
   "metadata": {
    "collapsed": false
   },
   "outputs": [
    {
     "data": {
      "text/plain": [
       "defined \u001b[32mclass\u001b[39m \u001b[36mPlayer\u001b[39m\n",
       "defined \u001b[32mobject\u001b[39m \u001b[36mPlayer\u001b[39m"
      ]
     },
     "execution_count": 60,
     "metadata": {},
     "output_type": "execute_result"
    }
   ],
   "source": [
    "class Player(val Name: String, \n",
    "             val Age: Int, \n",
    "             val Club: Option[String],\n",
    "             private val Salary: Option[Double])\n",
    "\n",
    "object Player {\n",
    "    def WhoIsPlayer(x: Player) = x.Name\n",
    "    def GetSalary(x: Player) = x.Salary\n",
    "}"
   ]
  },
  {
   "cell_type": "code",
   "execution_count": 63,
   "metadata": {
    "collapsed": false
   },
   "outputs": [
    {
     "data": {
      "text/plain": [
       "\u001b[36mCR7\u001b[39m: \u001b[32mPlayer\u001b[39m = $sess.cmd59Wrapper$Helper$Player@28ac47ce\n",
       "\u001b[36mMessi\u001b[39m: \u001b[32mPlayer\u001b[39m = $sess.cmd59Wrapper$Helper$Player@35fd48cc"
      ]
     },
     "execution_count": 63,
     "metadata": {},
     "output_type": "execute_result"
    }
   ],
   "source": [
    "val CR7 = new Player(\"C.Ronaldo\", 31, Some(\"R.M.\"), Some(1001.0))\n",
    "val Messi = new Player(\"L.Messi\", 28, Some(\"FCB\"), None)"
   ]
  },
  {
   "cell_type": "code",
   "execution_count": 64,
   "metadata": {
    "collapsed": false
   },
   "outputs": [
    {
     "data": {
      "text/plain": [
       "\u001b[36mres63_0\u001b[39m: \u001b[32mString\u001b[39m = \u001b[32m\"C.Ronaldo\"\u001b[39m\n",
       "\u001b[36mres63_1\u001b[39m: \u001b[32mString\u001b[39m = \u001b[32m\"L.Messi\"\u001b[39m"
      ]
     },
     "execution_count": 64,
     "metadata": {},
     "output_type": "execute_result"
    }
   ],
   "source": [
    "Player.WhoIsPlayer(CR7)\n",
    "Player.WhoIsPlayer(Messi)"
   ]
  },
  {
   "cell_type": "code",
   "execution_count": 66,
   "metadata": {
    "collapsed": false
   },
   "outputs": [
    {
     "data": {
      "text/plain": [
       "\u001b[36mres65_0\u001b[39m: \u001b[32mOption\u001b[39m[\u001b[32mDouble\u001b[39m] = \u001b[33mSome\u001b[39m(\u001b[32m1001.0\u001b[39m)\n",
       "\u001b[36mres65_1\u001b[39m: \u001b[32mOption\u001b[39m[\u001b[32mDouble\u001b[39m] = None"
      ]
     },
     "execution_count": 66,
     "metadata": {},
     "output_type": "execute_result"
    }
   ],
   "source": [
    "Player.GetSalary(CR7)\n",
    "Player.GetSalary(Messi)"
   ]
  }
 ],
 "metadata": {
  "kernelspec": {
   "display_name": "Scala",
   "language": "scala",
   "name": "scala"
  },
  "language_info": {
   "codemirror_mode": "text/x-scala",
   "file_extension": ".scala",
   "mimetype": "text/x-scala",
   "name": "scala211",
   "nbconvert_exporter": "script",
   "pygments_lexer": "scala",
   "version": "2.11.11"
  }
 },
 "nbformat": 4,
 "nbformat_minor": 2
}
