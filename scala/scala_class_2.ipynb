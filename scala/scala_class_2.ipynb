{
 "cells": [
  {
   "cell_type": "markdown",
   "metadata": {},
   "source": [
    "From Imperative to Functional "
   ]
  },
  {
   "cell_type": "code",
   "execution_count": 29,
   "metadata": {
    "collapsed": true
   },
   "outputs": [],
   "source": [
    "// print \n",
    "// println - print next item in a new line"
   ]
  },
  {
   "cell_type": "code",
   "execution_count": 1,
   "metadata": {
    "collapsed": false
   },
   "outputs": [
    {
     "data": {
      "text/plain": [
       "defined \u001b[32mfunction\u001b[39m \u001b[36mprintArg\u001b[39m"
      ]
     },
     "execution_count": 1,
     "metadata": {},
     "output_type": "execute_result"
    }
   ],
   "source": [
    "// Imperative Programming\n",
    "def printArg (args: Array[String]): Unit = {\n",
    "    var i = 0\n",
    "    while (i < args.length){\n",
    "        println(args(i))\n",
    "        i += 1\n",
    "    }\n",
    "}"
   ]
  },
  {
   "cell_type": "code",
   "execution_count": 20,
   "metadata": {
    "collapsed": false
   },
   "outputs": [
    {
     "data": {
      "text/plain": [
       "defined \u001b[32mfunction\u001b[39m \u001b[36mprintArg2\u001b[39m"
      ]
     },
     "execution_count": 20,
     "metadata": {},
     "output_type": "execute_result"
    }
   ],
   "source": [
    "// Functional Programming\n",
    "def printArg2 (args: Array[String]): Unit = {\n",
    "    for(arg <- args){\n",
    "        println(arg)\n",
    "    }\n",
    "}"
   ]
  },
  {
   "cell_type": "code",
   "execution_count": 29,
   "metadata": {
    "collapsed": false
   },
   "outputs": [
    {
     "data": {
      "text/plain": [
       "defined \u001b[32mfunction\u001b[39m \u001b[36mprintArg3\u001b[39m"
      ]
     },
     "execution_count": 29,
     "metadata": {},
     "output_type": "execute_result"
    }
   ],
   "source": [
    "// Functional Programming - with implied loop \n",
    "def printArg3 (args: Array[String]): Unit = {\n",
    "    args.foreach(println)\n",
    "}"
   ]
  },
  {
   "cell_type": "markdown",
   "metadata": {},
   "source": []
  },
  {
   "cell_type": "code",
   "execution_count": 31,
   "metadata": {
    "collapsed": false
   },
   "outputs": [
    {
     "name": "stdout",
     "output_type": "stream",
     "text": [
      "scala\n",
      "Class 2\n",
      "\n",
      "\b\n",
      "test\n",
      "\n",
      "\n",
      "test\n",
      "test\n",
      "2\n",
      "\n",
      "\n",
      "Implict\n",
      "FP\n",
      "foreach\n",
      "args\n"
     ]
    },
    {
     "data": {
      "text/plain": [
       "\u001b[36ma1\u001b[39m: \u001b[32mArray\u001b[39m[\u001b[32mString\u001b[39m] = \u001b[33mArray\u001b[39m(\n",
       "  \u001b[32m\"scala\"\u001b[39m,\n",
       "  \u001b[32m\"Class 2\"\u001b[39m,\n",
       "  \u001b[32m\"\"\u001b[39m,\n",
       "  \u001b[32m\"\b\"\u001b[39m,\n",
       "  \u001b[32m\"test\"\u001b[39m,\n",
       "  \u001b[32m\"\"\"\n",
       "  \n",
       "\n",
       "  \"\"\"\u001b[39m\n",
       ")\n",
       "\u001b[36ma2\u001b[39m: \u001b[32mArray\u001b[39m[\u001b[32mString\u001b[39m] = \u001b[33mArray\u001b[39m(\n",
       "  \u001b[32m\"test\"\u001b[39m,\n",
       "  \u001b[32m\"test\"\u001b[39m,\n",
       "  \u001b[32m\"2\"\u001b[39m,\n",
       "  \u001b[32m\"\"\"\n",
       "  \n",
       "\n",
       "  \"\"\"\u001b[39m\n",
       ")\n",
       "\u001b[36ma3\u001b[39m: \u001b[32mArray\u001b[39m[\u001b[32mString\u001b[39m] = \u001b[33mArray\u001b[39m(\u001b[32m\"Implict\"\u001b[39m, \u001b[32m\"FP\"\u001b[39m, \u001b[32m\"foreach\"\u001b[39m, \u001b[32m\"args\"\u001b[39m)"
      ]
     },
     "execution_count": 31,
     "metadata": {},
     "output_type": "execute_result"
    }
   ],
   "source": [
    "// ' ' --- Char\n",
    "// \" \" --- String\n",
    "val a1 : Array[String] = Array(\"scala\", \"Class 2\", \"\", \"\\b\", \"test\", \"\\n\")\n",
    "printArg(a1)\n",
    "\n",
    "val a2 = Array(\"test\", \"test\", \"2\", \"\\n\")\n",
    "printArg2(a2)\n",
    "\n",
    "val a3 = Array(\"Implict\", \"FP\", \"foreach\", \"args\")\n",
    "printArg3(a3)"
   ]
  },
  {
   "cell_type": "markdown",
   "metadata": {},
   "source": [
    " "
   ]
  },
  {
   "cell_type": "code",
   "execution_count": 47,
   "metadata": {
    "collapsed": false
   },
   "outputs": [
    {
     "data": {
      "text/plain": [
       "\u001b[36mres46_0\u001b[39m: \u001b[32mString\u001b[39m = \u001b[32m\"Class 2\"\u001b[39m\n",
       "\u001b[36mres46_1\u001b[39m: \u001b[32mString\u001b[39m = \u001b[32m\"2\"\u001b[39m\n",
       "\u001b[36mres46_2\u001b[39m: \u001b[32mString\u001b[39m = \u001b[32m\"2\"\u001b[39m"
      ]
     },
     "execution_count": 47,
     "metadata": {},
     "output_type": "execute_result"
    }
   ],
   "source": [
    "//toInt\n",
    "a1.toList(1)\n",
    "a2.toIndexedSeq(2)\n",
    "a2.toVector(2)"
   ]
  },
  {
   "cell_type": "markdown",
   "metadata": {},
   "source": []
  },
  {
   "cell_type": "code",
   "execution_count": 47,
   "metadata": {
    "collapsed": false
   },
   "outputs": [
    {
     "name": "stderr",
     "output_type": "stream",
     "text": [
      "cmd47.sc:1: not found: value Source\n",
      "val res47 = Source.fromFile(\"/home/dj/Desktop/ids10000.txt\").foreach(println)\n",
      "            ^"
     ]
    },
    {
     "ename": "",
     "evalue": "",
     "output_type": "error",
     "traceback": [
      "Compilation Failed"
     ]
    }
   ],
   "source": [
    "//read file\n",
    "// ?\n",
    "Source.fromFil(\"/home/dj/Desktop/ids10000.txt\").foreach(printl)"
   ]
  },
  {
   "cell_type": "code",
   "execution_count": 55,
   "metadata": {
    "collapsed": false
   },
   "outputs": [
    {
     "name": "stderr",
     "output_type": "stream",
     "text": [
      "cmd55.sc:2: value substring is not a member of Array[String]\n",
      "val res55_1 = a2.substring(2,4)\n",
      "                 ^"
     ]
    },
    {
     "ename": "",
     "evalue": "",
     "output_type": "error",
     "traceback": [
      "Compilation Failed"
     ]
    }
   ],
   "source": [
    "// getClass\n",
    "// ?\n",
    "a2.getClass\n",
    "a2.substring(2,4)"
   ]
  }
 ],
 "metadata": {
  "kernelspec": {
   "display_name": "Scala",
   "language": "scala",
   "name": "scala"
  },
  "language_info": {
   "codemirror_mode": "text/x-scala",
   "file_extension": ".scala",
   "mimetype": "text/x-scala",
   "name": "scala211",
   "nbconvert_exporter": "script",
   "pygments_lexer": "scala",
   "version": "2.11.11"
  }
 },
 "nbformat": 4,
 "nbformat_minor": 2
}
